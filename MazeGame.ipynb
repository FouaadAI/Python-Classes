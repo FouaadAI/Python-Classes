{
 "cells": [
  {
   "cell_type": "code",
   "execution_count": 1,
   "id": "4729cdf6-d01e-41c8-b00d-c041882c7ba1",
   "metadata": {},
   "outputs": [
    {
     "name": "stdout",
     "output_type": "stream",
     "text": [
      "مرحبًا! مرحبًا بك في لعبة المتاهة النصية!\n",
      "هدفك هو العثور على المخرج 'E' قبل أن تنفد خطواتك.\n",
      "يمكنك التحرك في أربعة اتجاهات: أعلى، أسفل، يمين، يسار.\n",
      "كن حذرًا من الأعداء 'X' وحاول جمع الكنوز 'T' لزيادة نقاطك.\n",
      "E       T \n",
      "X   X T   \n",
      "          \n",
      "  T       \n",
      "  T   X P \n",
      "الخطوات المتبقية: 10 | النقاط: 0\n"
     ]
    },
    {
     "name": "stdin",
     "output_type": "stream",
     "text": [
      "إلى أين تريد التحرك؟ (أعلى، أسفل، يمين، يسار):  أعلى\n"
     ]
    },
    {
     "name": "stdout",
     "output_type": "stream",
     "text": [
      "E       T \n",
      "X   X T   \n",
      "          \n",
      "  T     P \n",
      "  T   X   \n",
      "الخطوات المتبقية: 9 | النقاط: 0\n"
     ]
    },
    {
     "name": "stdin",
     "output_type": "stream",
     "text": [
      "إلى أين تريد التحرك؟ (أعلى، أسفل، يمين، يسار):  يمين\n"
     ]
    },
    {
     "name": "stdout",
     "output_type": "stream",
     "text": [
      "لا يمكنك التحرك في هذا الاتجاه!\n",
      "E       T \n",
      "X   X T   \n",
      "          \n",
      "  T     P \n",
      "  T   X   \n",
      "الخطوات المتبقية: 9 | النقاط: 0\n"
     ]
    },
    {
     "name": "stdin",
     "output_type": "stream",
     "text": [
      "إلى أين تريد التحرك؟ (أعلى، أسفل، يمين، يسار):  أسفل\n"
     ]
    },
    {
     "name": "stdout",
     "output_type": "stream",
     "text": [
      "E       T \n",
      "X   X T   \n",
      "          \n",
      "  T       \n",
      "  T   X P \n",
      "الخطوات المتبقية: 8 | النقاط: 0\n"
     ]
    },
    {
     "name": "stdin",
     "output_type": "stream",
     "text": [
      "إلى أين تريد التحرك؟ (أعلى، أسفل، يمين، يسار):  يسار\n"
     ]
    },
    {
     "name": "stdout",
     "output_type": "stream",
     "text": [
      "لقد اصطدمت بعدو! لقد خسرت خطوة.\n",
      "E       T \n",
      "X   X T   \n",
      "          \n",
      "  T       \n",
      "  T   P   \n",
      "الخطوات المتبقية: 6 | النقاط: 0\n"
     ]
    },
    {
     "name": "stdin",
     "output_type": "stream",
     "text": [
      "إلى أين تريد التحرك؟ (أعلى، أسفل، يمين، يسار):  أعلى\n"
     ]
    },
    {
     "name": "stdout",
     "output_type": "stream",
     "text": [
      "E       T \n",
      "X   X T   \n",
      "          \n",
      "  T   P   \n",
      "  T   X   \n",
      "الخطوات المتبقية: 5 | النقاط: 0\n"
     ]
    },
    {
     "name": "stdin",
     "output_type": "stream",
     "text": [
      "إلى أين تريد التحرك؟ (أعلى، أسفل، يمين، يسار):  أعلى\n"
     ]
    },
    {
     "name": "stdout",
     "output_type": "stream",
     "text": [
      "E       T \n",
      "X   X T   \n",
      "      P   \n",
      "  T       \n",
      "  T   X   \n",
      "الخطوات المتبقية: 4 | النقاط: 0\n"
     ]
    },
    {
     "name": "stdin",
     "output_type": "stream",
     "text": [
      "إلى أين تريد التحرك؟ (أعلى، أسفل، يمين، يسار):  أعلى\n"
     ]
    },
    {
     "name": "stdout",
     "output_type": "stream",
     "text": [
      "لقد وجدت كنزًا! لقد ربحت نقطة.\n",
      "E       T \n",
      "X   X P   \n",
      "          \n",
      "  T       \n",
      "  T   X   \n",
      "الخطوات المتبقية: 3 | النقاط: 1\n"
     ]
    },
    {
     "name": "stdin",
     "output_type": "stream",
     "text": [
      "إلى أين تريد التحرك؟ (أعلى، أسفل، يمين، يسار):  أعلى\n"
     ]
    },
    {
     "name": "stdout",
     "output_type": "stream",
     "text": [
      "E     P T \n",
      "X   X     \n",
      "          \n",
      "  T       \n",
      "  T   X   \n",
      "الخطوات المتبقية: 2 | النقاط: 1\n"
     ]
    },
    {
     "name": "stdin",
     "output_type": "stream",
     "text": [
      "إلى أين تريد التحرك؟ (أعلى، أسفل، يمين، يسار):  يسار\n"
     ]
    },
    {
     "name": "stdout",
     "output_type": "stream",
     "text": [
      "E   P   T \n",
      "X   X     \n",
      "          \n",
      "  T       \n",
      "  T   X   \n",
      "الخطوات المتبقية: 1 | النقاط: 1\n"
     ]
    },
    {
     "name": "stdin",
     "output_type": "stream",
     "text": [
      "إلى أين تريد التحرك؟ (أعلى، أسفل، يمين، يسار):  يسار\n"
     ]
    },
    {
     "name": "stdout",
     "output_type": "stream",
     "text": [
      "للأسف، لقد نفدت خطواتك. حاول مرة أخرى!\n"
     ]
    },
    {
     "name": "stdin",
     "output_type": "stream",
     "text": [
      "هل تريد اللعب مرة أخرى؟ (نعم/لا):  نعم\n"
     ]
    },
    {
     "name": "stdout",
     "output_type": "stream",
     "text": [
      "مرحبًا! مرحبًا بك في لعبة المتاهة النصية!\n",
      "هدفك هو العثور على المخرج 'E' قبل أن تنفد خطواتك.\n",
      "يمكنك التحرك في أربعة اتجاهات: أعلى، أسفل، يمين، يسار.\n",
      "كن حذرًا من الأعداء 'X' وحاول جمع الكنوز 'T' لزيادة نقاطك.\n",
      "E T     T \n",
      "X     T T \n",
      "        X \n",
      "        T \n",
      "X   X   P \n",
      "الخطوات المتبقية: 10 | النقاط: 0\n"
     ]
    },
    {
     "name": "stdin",
     "output_type": "stream",
     "text": [
      "إلى أين تريد التحرك؟ (أعلى، أسفل، يمين، يسار):  أعلى\n"
     ]
    },
    {
     "name": "stdout",
     "output_type": "stream",
     "text": [
      "لقد وجدت كنزًا! لقد ربحت نقطة.\n",
      "E T     T \n",
      "X     T T \n",
      "        X \n",
      "        P \n",
      "X   X   X \n",
      "الخطوات المتبقية: 9 | النقاط: 1\n"
     ]
    },
    {
     "name": "stdin",
     "output_type": "stream",
     "text": [
      "إلى أين تريد التحرك؟ (أعلى، أسفل، يمين، يسار):  يسار\n"
     ]
    },
    {
     "name": "stdout",
     "output_type": "stream",
     "text": [
      "E T     T \n",
      "X     T T \n",
      "        X \n",
      "      P   \n",
      "X   X   X \n",
      "الخطوات المتبقية: 8 | النقاط: 1\n"
     ]
    },
    {
     "name": "stdin",
     "output_type": "stream",
     "text": [
      "إلى أين تريد التحرك؟ (أعلى، أسفل، يمين، يسار):  أعلى\n"
     ]
    },
    {
     "name": "stdout",
     "output_type": "stream",
     "text": [
      "E T     T \n",
      "X     T T \n",
      "      P X \n",
      "          \n",
      "X   X   X \n",
      "الخطوات المتبقية: 7 | النقاط: 1\n"
     ]
    },
    {
     "name": "stdin",
     "output_type": "stream",
     "text": [
      "إلى أين تريد التحرك؟ (أعلى، أسفل، يمين، يسار):  أعلى\n"
     ]
    },
    {
     "name": "stdout",
     "output_type": "stream",
     "text": [
      "لقد وجدت كنزًا! لقد ربحت نقطة.\n",
      "E T     T \n",
      "X     P T \n",
      "        X \n",
      "          \n",
      "X   X   X \n",
      "الخطوات المتبقية: 6 | النقاط: 2\n"
     ]
    },
    {
     "name": "stdin",
     "output_type": "stream",
     "text": [
      "إلى أين تريد التحرك؟ (أعلى، أسفل، يمين، يسار):  أعلى\n"
     ]
    },
    {
     "name": "stdout",
     "output_type": "stream",
     "text": [
      "E T   P T \n",
      "X       T \n",
      "        X \n",
      "          \n",
      "X   X   X \n",
      "الخطوات المتبقية: 5 | النقاط: 2\n"
     ]
    },
    {
     "name": "stdin",
     "output_type": "stream",
     "text": [
      "إلى أين تريد التحرك؟ (أعلى، أسفل، يمين، يسار):  يسار\n"
     ]
    },
    {
     "name": "stdout",
     "output_type": "stream",
     "text": [
      "E T P   T \n",
      "X       T \n",
      "        X \n",
      "          \n",
      "X   X   X \n",
      "الخطوات المتبقية: 4 | النقاط: 2\n"
     ]
    },
    {
     "name": "stdin",
     "output_type": "stream",
     "text": [
      "إلى أين تريد التحرك؟ (أعلى، أسفل، يمين، يسار):  يسار\n"
     ]
    },
    {
     "name": "stdout",
     "output_type": "stream",
     "text": [
      "لقد وجدت كنزًا! لقد ربحت نقطة.\n",
      "E P     T \n",
      "X       T \n",
      "        X \n",
      "          \n",
      "X   X   X \n",
      "الخطوات المتبقية: 3 | النقاط: 3\n"
     ]
    },
    {
     "name": "stdin",
     "output_type": "stream",
     "text": [
      "إلى أين تريد التحرك؟ (أعلى، أسفل، يمين، يسار):  يسار\n"
     ]
    },
    {
     "name": "stdout",
     "output_type": "stream",
     "text": [
      "مبروك! لقد وجدت المخرج!\n",
      "النقاط النهائية: 3\n"
     ]
    },
    {
     "name": "stdin",
     "output_type": "stream",
     "text": [
      "هل تريد اللعب مرة أخرى؟ (نعم/لا):  لا\n"
     ]
    },
    {
     "name": "stdout",
     "output_type": "stream",
     "text": [
      "شكرًا لك على اللعب! أراك لاحقًا.\n"
     ]
    }
   ],
   "source": [
    "import random\n",
    "\n",
    "def create_maze(size):\n",
    "    maze = [[' ' for _ in range(size)] for _ in range(size)]\n",
    "    # وضع المخرج\n",
    "    maze[0][0] = 'E'\n",
    "    # وضع الكنوز\n",
    "    for _ in range(size):\n",
    "        x, y = random.randint(0, size-1), random.randint(0, size-1)\n",
    "        if maze[x][y] == ' ':\n",
    "            maze[x][y] = 'T'\n",
    "    # وضع الأعداء\n",
    "    for _ in range(size):\n",
    "        x, y = random.randint(0, size-1), random.randint(0, size-1)\n",
    "        if maze[x][y] == ' ':\n",
    "            maze[x][y] = 'X'\n",
    "    return maze\n",
    "\n",
    "def print_maze(maze, player_pos):\n",
    "    for i in range(len(maze)):\n",
    "        row = ''\n",
    "        for j in range(len(maze[i])):\n",
    "            if (i, j) == player_pos:\n",
    "                row += 'P '\n",
    "            else:\n",
    "                row += maze[i][j] + ' '\n",
    "        print(row)\n",
    "\n",
    "def move_player(maze, player_pos, direction):\n",
    "    x, y = player_pos\n",
    "    if direction == 'أعلى' and x > 0:\n",
    "        x -= 1\n",
    "    elif direction == 'أسفل' and x < len(maze) - 1:\n",
    "        x += 1\n",
    "    elif direction == 'يسار' and y > 0:\n",
    "        y -= 1\n",
    "    elif direction == 'يمين' and y < len(maze[0]) - 1:\n",
    "        y += 1\n",
    "    else:\n",
    "        print(\"لا يمكنك التحرك في هذا الاتجاه!\")\n",
    "        return player_pos\n",
    "    return (x, y)\n",
    "\n",
    "def maze_game():\n",
    "    size = 5\n",
    "    maze = create_maze(size)\n",
    "    player_pos = (size-1, size-1)\n",
    "    steps = 10\n",
    "    score = 0\n",
    "    \n",
    "    print(\"مرحبًا! مرحبًا بك في لعبة المتاهة النصية!\")\n",
    "    print(\"هدفك هو العثور على المخرج 'E' قبل أن تنفد خطواتك.\")\n",
    "    print(\"يمكنك التحرك في أربعة اتجاهات: أعلى، أسفل، يمين، يسار.\")\n",
    "    print(\"كن حذرًا من الأعداء 'X' وحاول جمع الكنوز 'T' لزيادة نقاطك.\")\n",
    "    \n",
    "    while steps > 0:\n",
    "        print_maze(maze, player_pos)\n",
    "        print(f\"الخطوات المتبقية: {steps} | النقاط: {score}\")\n",
    "        direction = input(\"إلى أين تريد التحرك؟ (أعلى، أسفل، يمين، يسار): \").strip().lower()\n",
    "        \n",
    "        new_pos = move_player(maze, player_pos, direction)\n",
    "        if new_pos == player_pos:\n",
    "            continue\n",
    "        \n",
    "        x, y = new_pos\n",
    "        cell = maze[x][y]\n",
    "        \n",
    "        if cell == 'X':\n",
    "            print(\"لقد اصطدمت بعدو! لقد خسرت خطوة.\")\n",
    "            steps -= 1\n",
    "        elif cell == 'T':\n",
    "            print(\"لقد وجدت كنزًا! لقد ربحت نقطة.\")\n",
    "            score += 1\n",
    "            maze[x][y] = ' '\n",
    "        elif cell == 'E':\n",
    "            print(\"مبروك! لقد وجدت المخرج!\")\n",
    "            print(f\"النقاط النهائية: {score}\")\n",
    "            break\n",
    "        \n",
    "        player_pos = new_pos\n",
    "        steps -= 1\n",
    "    \n",
    "    if steps <= 0:\n",
    "        print(\"للأسف، لقد نفدت خطواتك. حاول مرة أخرى!\")\n",
    "    \n",
    "    play_again = input(\"هل تريد اللعب مرة أخرى؟ (نعم/لا): \").strip().lower()\n",
    "    if play_again == 'نعم':\n",
    "        maze_game()\n",
    "    else:\n",
    "        print(\"شكرًا لك على اللعب! أراك لاحقًا.\")\n",
    "\n",
    "# تشغيل اللعبة\n",
    "maze_game()"
   ]
  },
  {
   "cell_type": "code",
   "execution_count": null,
   "id": "1bf0e842-4138-417d-9b3b-7403dd8c8581",
   "metadata": {},
   "outputs": [],
   "source": []
  }
 ],
 "metadata": {
  "kernelspec": {
   "display_name": "Python [conda env:base] *",
   "language": "python",
   "name": "conda-base-py"
  },
  "language_info": {
   "codemirror_mode": {
    "name": "ipython",
    "version": 3
   },
   "file_extension": ".py",
   "mimetype": "text/x-python",
   "name": "python",
   "nbconvert_exporter": "python",
   "pygments_lexer": "ipython3",
   "version": "3.12.7"
  }
 },
 "nbformat": 4,
 "nbformat_minor": 5
}
