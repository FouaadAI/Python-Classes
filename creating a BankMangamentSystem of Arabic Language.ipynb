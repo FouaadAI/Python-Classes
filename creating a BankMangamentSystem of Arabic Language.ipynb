{
 "cells": [
  {
   "cell_type": "code",
   "execution_count": 4,
   "id": "4d5e2f10-8e93-4108-b210-7d70bcfe0b99",
   "metadata": {},
   "outputs": [
    {
     "name": "stdout",
     "output_type": "stream",
     "text": [
      "مرحبًا بك في نظام إدارة الحساب البنكي\n",
      "\n",
      "ماذا تريد أن تفعل؟\n",
      "1. إيداع الأموال\n",
      "2. سحب الأموال\n",
      "3. تحويل الأموال\n",
      "4. عرض الرصيد\n",
      "5. الخروج\n"
     ]
    },
    {
     "name": "stdin",
     "output_type": "stream",
     "text": [
      "اختر رقم العملية:  1\n",
      "أدخل المبلغ للإيداع:  5000\n"
     ]
    },
    {
     "name": "stdout",
     "output_type": "stream",
     "text": [
      "5000.0 تم إيداعه. الرصيد الجديد: 6000.0\n",
      "\n",
      "ماذا تريد أن تفعل؟\n",
      "1. إيداع الأموال\n",
      "2. سحب الأموال\n",
      "3. تحويل الأموال\n",
      "4. عرض الرصيد\n",
      "5. الخروج\n"
     ]
    },
    {
     "name": "stdin",
     "output_type": "stream",
     "text": [
      "اختر رقم العملية:  4\n"
     ]
    },
    {
     "name": "stdout",
     "output_type": "stream",
     "text": [
      "رصيد علي: 6000.0\n",
      "\n",
      "ماذا تريد أن تفعل؟\n",
      "1. إيداع الأموال\n",
      "2. سحب الأموال\n",
      "3. تحويل الأموال\n",
      "4. عرض الرصيد\n",
      "5. الخروج\n"
     ]
    },
    {
     "name": "stdin",
     "output_type": "stream",
     "text": [
      "اختر رقم العملية:  2\n",
      "أدخل المبلغ للسحب:  7000\n"
     ]
    },
    {
     "name": "stdout",
     "output_type": "stream",
     "text": [
      "الرصيد غير كافٍ!\n",
      "\n",
      "ماذا تريد أن تفعل؟\n",
      "1. إيداع الأموال\n",
      "2. سحب الأموال\n",
      "3. تحويل الأموال\n",
      "4. عرض الرصيد\n",
      "5. الخروج\n"
     ]
    },
    {
     "name": "stdin",
     "output_type": "stream",
     "text": [
      "اختر رقم العملية:  3\n",
      "أدخل المبلغ للتحويل:  500\n"
     ]
    },
    {
     "name": "stdout",
     "output_type": "stream",
     "text": [
      "500.0 تم إيداعه. الرصيد الجديد: 1000.0\n",
      "500.0 تم تحويله إلى محمد.\n",
      "\n",
      "ماذا تريد أن تفعل؟\n",
      "1. إيداع الأموال\n",
      "2. سحب الأموال\n",
      "3. تحويل الأموال\n",
      "4. عرض الرصيد\n",
      "5. الخروج\n"
     ]
    },
    {
     "name": "stdin",
     "output_type": "stream",
     "text": [
      "اختر رقم العملية:  5\n"
     ]
    },
    {
     "name": "stdout",
     "output_type": "stream",
     "text": [
      "شكرًا لاستخدامك النظام.\n"
     ]
    }
   ],
   "source": [
    "class BankAccount:\n",
    "    def __init__(self, account_holder, balance=0):\n",
    "        self.account_holder = account_holder\n",
    "        self.balance = balance\n",
    "\n",
    "    def deposit(self, amount):\n",
    "        if amount > 0:\n",
    "            self.balance += amount\n",
    "            print(f\"{amount} تم إيداعه. الرصيد الجديد: {self.balance}\")\n",
    "        else:\n",
    "            print(\"يجب أن يكون مبلغ الإيداع إيجابيًا.\")\n",
    "\n",
    "    def withdraw(self, amount):\n",
    "        if amount <= self.balance:\n",
    "            self.balance -= amount\n",
    "            print(f\"{amount} تم سحبه. الرصيد الجديد: {self.balance}\")\n",
    "        else:\n",
    "            print(\"الرصيد غير كافٍ!\")\n",
    "\n",
    "    def get_balance(self):\n",
    "        return self.balance\n",
    "\n",
    "    def transfer(self, amount, target_account):\n",
    "        if amount <= self.balance:\n",
    "            self.balance -= amount\n",
    "            target_account.deposit(amount)\n",
    "            print(f\"{amount} تم تحويله إلى {target_account.account_holder}.\")\n",
    "        else:\n",
    "            print(\"فشل التحويل: الرصيد غير كافٍ!\")\n",
    "\n",
    "    def __str__(self):\n",
    "        return f\"الحساب: {self.account_holder}, الرصيد: {self.balance}\"\n",
    "\n",
    "\n",
    "# واجهة المستخدم\n",
    "def main():\n",
    "    print(\"مرحبًا بك في نظام إدارة الحساب البنكي\")\n",
    "    \n",
    "    # إنشاء حسابين للاختبار\n",
    "    account1 = BankAccount(\"علي\", 1000)\n",
    "    account2 = BankAccount(\"محمد\", 500)\n",
    "    \n",
    "    while True:\n",
    "        print(\"\\nماذا تريد أن تفعل؟\")\n",
    "        print(\"1. إيداع الأموال\")\n",
    "        print(\"2. سحب الأموال\")\n",
    "        print(\"3. تحويل الأموال\")\n",
    "        print(\"4. عرض الرصيد\")\n",
    "        print(\"5. الخروج\")\n",
    "        \n",
    "        choice = input(\"اختر رقم العملية: \")\n",
    "        \n",
    "        if choice == \"1\":\n",
    "            amount = float(input(\"أدخل المبلغ للإيداع: \"))\n",
    "            account1.deposit(amount)\n",
    "        \n",
    "        elif choice == \"2\":\n",
    "            amount = float(input(\"أدخل المبلغ للسحب: \"))\n",
    "            account1.withdraw(amount)\n",
    "        \n",
    "        elif choice == \"3\":\n",
    "            amount = float(input(\"أدخل المبلغ للتحويل: \"))\n",
    "            account1.transfer(amount, account2)\n",
    "        \n",
    "        elif choice == \"4\":\n",
    "            print(f\"رصيد {account1.account_holder}: {account1.get_balance()}\")\n",
    "        \n",
    "        elif choice == \"5\":\n",
    "            print(\"شكرًا لاستخدامك النظام.\")\n",
    "            break\n",
    "        \n",
    "        else:\n",
    "            print(\"اختيار غير صالح. حاول مرة أخرى.\")\n",
    "\n",
    "if __name__==\"__main__\":\n",
    "    main()\n"
   ]
  },
  {
   "cell_type": "code",
   "execution_count": null,
   "id": "da4556c3-0530-4f96-975f-de1477ecbbb0",
   "metadata": {},
   "outputs": [],
   "source": []
  }
 ],
 "metadata": {
  "kernelspec": {
   "display_name": "Python [conda env:base] *",
   "language": "python",
   "name": "conda-base-py"
  },
  "language_info": {
   "codemirror_mode": {
    "name": "ipython",
    "version": 3
   },
   "file_extension": ".py",
   "mimetype": "text/x-python",
   "name": "python",
   "nbconvert_exporter": "python",
   "pygments_lexer": "ipython3",
   "version": "3.12.7"
  }
 },
 "nbformat": 4,
 "nbformat_minor": 5
}
