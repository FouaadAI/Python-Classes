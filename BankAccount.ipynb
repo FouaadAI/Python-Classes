{
 "cells": [
  {
   "cell_type": "code",
   "execution_count": 1,
   "id": "b98eeb77-00d1-4e38-a83c-32d8280db104",
   "metadata": {},
   "outputs": [
    {
     "ename": "IndentationError",
     "evalue": "expected an indented block after function definition on line 17 (3183593107.py, line 19)",
     "output_type": "error",
     "traceback": [
      "\u001b[1;36m  Cell \u001b[1;32mIn[1], line 19\u001b[1;36m\u001b[0m\n\u001b[1;33m    print(Employee)\u001b[0m\n\u001b[1;37m                           ^\u001b[0m\n\u001b[1;31mIndentationError\u001b[0m\u001b[1;31m:\u001b[0m expected an indented block after function definition on line 17\n"
     ]
    }
   ],
   "source": [
    "class Employee:\n",
    "    def __init__(self,name,salary,department):\n",
    "        self.name=name\n",
    "        self.salary=salary\n",
    "        self.department=department\n",
    "    def update_salary(self, new_salary):\n",
    "        self.salary=new_salary\n",
    "    def __str__(self):\n",
    "        return f\"name:{self.name},salary:{self.salary},department:{self.department}\"\n",
    "\n",
    "class EmoloyeeMangmentsystem:\n",
    "    def __init__(self):\n",
    "        self.employees=[]\n",
    "    def add_employee(self,name,salary,department):\n",
    "        employee=Employee(Fouad, 3000, Manager)\n",
    "        self.employees.append(employee)\n",
    "    def display_employees(self):\n",
    "\n",
    "print(Employee)        "
   ]
  },
  {
   "cell_type": "code",
   "execution_count": null,
   "id": "66a18305-6ccb-458f-aafe-761661ef6b8f",
   "metadata": {},
   "outputs": [],
   "source": []
  },
  {
   "cell_type": "code",
   "execution_count": null,
   "id": "5ca0701c-e158-41b8-9e12-aa130aef883b",
   "metadata": {},
   "outputs": [],
   "source": [
    "class Employee:\n",
    "   def __init__(self, name, salary, department):\n",
    "       self.name = name\n",
    "       self.salary = salary\n",
    "       self.department = department\n",
    "   def __str__(self):\n",
    "       return f\"Name: {self.name}, Salary: {self.salary}, Department: {self.department}\"\n",
    "\n",
    "class Company:\n",
    "   def __init__(self):\n",
    "       self.employees = []\n",
    "   def add_employee(self, name, salary, department):\n",
    "       employee = Employee(name, salary, department)\n",
    "       self.employees.append(employee)\n",
    "       print(f\"Employee {name} added successfully.\")"
   ]
  },
  {
   "cell_type": "code",
   "execution_count": null,
   "id": "1cd1c323-7041-42cb-ab4f-7382cffaf9fb",
   "metadata": {},
   "outputs": [],
   "source": []
  },
  {
   "cell_type": "code",
   "execution_count": 3,
   "id": "6b551e7b-977c-4a65-b28a-eb0dc2271a5f",
   "metadata": {},
   "outputs": [],
   "source": [
    "class Employee:\n",
    "    def _init_(self, name, salary, department):\n",
    "        self.name = name\n",
    "        self.salary = salary\n",
    "        self.department = department\n",
    "\n",
    "    def update_salary(self, new_salary):\n",
    "        self.salary = new_salary\n",
    "\n",
    "    def _str_(self):\n",
    "        return f\"Name: {self.name}, Salary: {self.salary}, Department: {self.department}\"\n",
    "class EmployeeManagementSystem:\n",
    "    def _init_(self):\n",
    "        self.employees = []\n",
    "\n",
    "    def add_employee(self, name, salary, department):\n",
    "        employee = Employee(name, salary, department)\n",
    "        self.employees.append(employee)\n",
    "\n",
    "    def display_employees(self):\n",
    "        if not self.employees:\n",
    "            print(\"No employees found.\")\n",
    "        else:\n",
    "            for employee in self.employees:\n",
    "                print(employee)\n",
    "\n",
    "    def update_salary(self, name, new_salary):\n",
    "        for employee in self.employees:\n",
    "            if employee.name == name:\n",
    "                employee.update_salary(new_salary)\n",
    "                print(f\"Salary updated for {name}.\")\n",
    "                return\n",
    "        print(f\"Employee {name} not found.\")\n",
    "\n",
    "    def calculate_average_salary(self):\n",
    "        if not self.employees:\n",
    "            print(\"No employees to calculate average salary.\")\n",
    "            return 0\n",
    "        total_salary = sum(employee.salary for employee in self.employees)\n",
    "        average_salary = total_salary / len(self.employees)\n",
    "        return average_salary\n",
    "        #if _name_ == \"_main_\":\n",
    "\n",
    "   # system.add_employee(\"Alice\", 50000, \"HR\")\n",
    "   # system.add_employee(\"Bob\", 60000, \"Engineering\")\n",
    "    #system.add_employee(\"Charlie\", 55000, \"Finance\")\n",
    "\n",
    "    #print(\"\\n--- Employee Details ---\")\n",
    "   # system.display_employees()\n",
    "\n",
    "    #print(\"\\n--- Update Salary ---\")\n",
    "    #system.update_salary(\"Bob\", 65000)\n",
    "    #system.display_employees()\n",
    "    #print(\"\\n--- Average Salary ---\")\n",
    "    #avg_salary = system.calculate_average_salary()\n",
    "    #print(f\"Average Salary: {avg_salary}\")"
   ]
  },
  {
   "cell_type": "code",
   "execution_count": 5,
   "id": "6b437e49-6105-497a-bad8-6a6ce6c1a90c",
   "metadata": {},
   "outputs": [
    {
     "data": {
      "text/plain": [
       "('kenan', 5000, 'devol')"
      ]
     },
     "execution_count": 5,
     "metadata": {},
     "output_type": "execute_result"
    }
   ],
   "source": [
    "\"kenan\",5000,\"devol\""
   ]
  },
  {
   "cell_type": "code",
   "execution_count": 7,
   "id": "5874fc86-4eb9-447c-b5e8-46188522e8d8",
   "metadata": {},
   "outputs": [
    {
     "data": {
      "text/plain": [
       "('fouaad', 3000, 'manager')"
      ]
     },
     "execution_count": 7,
     "metadata": {},
     "output_type": "execute_result"
    }
   ],
   "source": [
    "\"fouaad\",3000,\"manager\""
   ]
  },
  {
   "cell_type": "code",
   "execution_count": null,
   "id": "9484fbcb-f67d-46a3-8b7b-890660cd1b9b",
   "metadata": {},
   "outputs": [],
   "source": []
  },
  {
   "cell_type": "code",
   "execution_count": 9,
   "id": "c80e91b4-1e18-43f4-9c36-c3cb9ef430de",
   "metadata": {},
   "outputs": [],
   "source": [
    "class Employee:\n",
    "    def __init__(self, name, salary, department):\n",
    "       self.name = name\n",
    "       self.salary = salary\n",
    "       self.department = department\n",
    "    def __str__(self):\n",
    "        return f\"Name: {self.name}, Salary: {self.salary}, Department: {self.department}\"\n",
    "class Company:\n",
    "   def __init__(self):\n",
    "       self.employees = []\n",
    "   def add_employee(self, name, salary, department):\n",
    "       employee = Employee(fouaad,3000 , manager)\n",
    "       self.employees.append(employee)\n",
    "       print(f\"Employee {name} added successfully.\")\n",
    "   def show_employees(self):\n",
    "       if not self.employees:\n",
    "           print(\"No employees available.\")\n",
    "       else:\n",
    "           print(\"List of Employees:\")\n",
    "           for employee in self.employees:\n",
    "               print(employee)\n",
    "   def update_salary(self, name, new_salary):\n",
    "       for employee in self.employees:\n",
    "           if employee.name == name:\n",
    "               employee.salary = new_salary\n",
    "               print(f\"Salary updated for {name}. New salary: {new_salary}\")\n",
    "               return\n",
    "       print(f\"Employee with name {name} not found.\")\n",
    "   def average_salary(self):\n",
    "       if not self.employees:\n",
    "           print(\"No employees available to calculate average salary.\")\n",
    "           return 0\n",
    "       total_salary = sum(employee.salary for employee in self.employees)\n",
    "       average = total_salary / len(self.employees)\n",
    "       print(f\"Average salary in the company: {average:.2f}\")\n",
    "       return average"
   ]
  },
  {
   "cell_type": "code",
   "execution_count": null,
   "id": "caf93732-fe25-4da2-9a98-f14441f46658",
   "metadata": {},
   "outputs": [],
   "source": []
  },
  {
   "cell_type": "code",
   "execution_count": null,
   "id": "efb53b1c-e6b6-4e45-ad57-04b020bee603",
   "metadata": {},
   "outputs": [],
   "source": []
  },
  {
   "cell_type": "code",
   "execution_count": 13,
   "id": "a97f3137-f6a9-49ec-aa21-ff3cba8cf283",
   "metadata": {},
   "outputs": [],
   "source": [
    "class Student:\n",
    "    def _init_(self, name, age, grade):\n",
    "        self.name = name\n",
    "        self.age = age\n",
    "        self.grade = grade\n",
    "\n",
    "    def update_grade(self, new_grade):\n",
    "        self.grade = new_grade\n",
    "\n",
    "    def _str_(self):\n",
    "        return f\"Name: {self.name}, Age: {self.age}, Grade: {self.grade}\"\n",
    "\n",
    "class StudentManagementSystem:\n",
    "    def _init_(self):\n",
    "        self.students = []\n",
    "\n",
    "    def add_student(self, name, age, grade):\n",
    "        student = Student(name, age, grade)\n",
    "        self.students.append(student)\n",
    "\n",
    "    def display_students(self):\n",
    "        if not self.students:\n",
    "            print(\"No students found.\")\n",
    "        else:\n",
    "            for student in self.students:\n",
    "                print(student)\n",
    "\n",
    "    def update_grade(self, name, new_grade):\n",
    "        for student in self.students:\n",
    "            if student.name == name:\n",
    "                student.update_grade(new_grade)\n",
    "                print(f\"Grade updated for {name}.\")\n",
    "                return\n",
    "        print(f\"Student {name} not found.\")"
   ]
  },
  {
   "cell_type": "code",
   "execution_count": 15,
   "id": "945a5eb3-5b1f-4de1-8982-7593f8578ad1",
   "metadata": {},
   "outputs": [
    {
     "data": {
      "text/plain": [
       "('fouaad', 20, 'A')"
      ]
     },
     "execution_count": 15,
     "metadata": {},
     "output_type": "execute_result"
    }
   ],
   "source": [
    "\"fouaad\",20,\"A\""
   ]
  },
  {
   "cell_type": "code",
   "execution_count": 17,
   "id": "3bdf6bae-c925-4082-b95d-c4dd8922c82b",
   "metadata": {},
   "outputs": [
    {
     "data": {
      "text/plain": [
       "('Alaa', 27, 'B')"
      ]
     },
     "execution_count": 17,
     "metadata": {},
     "output_type": "execute_result"
    }
   ],
   "source": [
    "\"Alaa\",27,\"B\""
   ]
  },
  {
   "cell_type": "code",
   "execution_count": null,
   "id": "8975a9e7-e4cb-48ae-9988-5d18daafdb29",
   "metadata": {},
   "outputs": [],
   "source": []
  },
  {
   "cell_type": "code",
   "execution_count": 19,
   "id": "5c8dbdc9-b62d-4b5d-9dfe-4d1562a90364",
   "metadata": {},
   "outputs": [],
   "source": [
    "class Car:\n",
    "    def _init_(self, make, model, year, speed=0):\n",
    "        self.make = make\n",
    "        self.model = model\n",
    "        self.year = year\n",
    "        self.speed = speed\n",
    "\n",
    "    def accelerate(self, amount):\n",
    "        self.speed += amount\n",
    "        print(f\"The car has accelerated by {amount} mph.\")\n",
    "\n",
    "    def brake(self, amount):\n",
    "        self.speed -= amount\n",
    "        if self.speed < 0:\n",
    "            self.speed = 0\n",
    "        print(f\"The car has slowed down by {amount} mph.\")\n",
    "\n",
    "    def display_speed(self):\n",
    "        print(f\"The current speed of the car is {self.speed} mph.\")\n",
    "\n",
    "    def _str_(self):\n",
    "        return f\"Car: {self.make} {self.model} ({self.year})\"\n"
   ]
  },
  {
   "cell_type": "code",
   "execution_count": 21,
   "id": "475704aa-8994-46e9-bbea-38c1c8e9564e",
   "metadata": {},
   "outputs": [
    {
     "data": {
      "text/plain": [
       "('Mercedes', 'C class', 2023, '300mph')"
      ]
     },
     "execution_count": 21,
     "metadata": {},
     "output_type": "execute_result"
    }
   ],
   "source": [
    "Car1=\"Mercedes\",\"C class\",2023,\"300mph\"\n",
    "Car1"
   ]
  },
  {
   "cell_type": "code",
   "execution_count": null,
   "id": "2f55efe1-757c-49d8-927a-2a6ee78de9e5",
   "metadata": {},
   "outputs": [],
   "source": []
  },
  {
   "cell_type": "code",
   "execution_count": 24,
   "id": "3adc22cc-583e-499c-b44f-a2f8a7bff3d4",
   "metadata": {},
   "outputs": [],
   "source": [
    "class Car:\n",
    "    def __init__(self,make,model,year,speed):\n",
    "        self.make = make\n",
    "        self.model=model\n",
    "        self.year = year\n",
    "        self.speed = speed\n",
    "        \n",
    "    def __str__(self):\n",
    "        return f\"make: {self.make}, model: {self.model}, year: {self.year},speed: {self.speed}\"\n",
    "        \n",
    "    def accelerate(self):\n",
    "       amount = int(input('enter the speed'))\n",
    "       self.speed = self.speed+amount\n",
    "       print(f'the total speed is {self.speed}')\n",
    "        \n",
    "    def brake(self):\n",
    "       amount = int(input('enter the speed')) \n",
    "       self.speed = self.speed - amount\n",
    "       print(f'the total speed is {self.speed}')"
   ]
  },
  {
   "cell_type": "code",
   "execution_count": 26,
   "id": "0655441a-3ace-471d-a66e-77f279b40ddb",
   "metadata": {},
   "outputs": [
    {
     "name": "stdout",
     "output_type": "stream",
     "text": [
      "make: mercedes, model: C Class, year: 2023,speed: 300kmh\n"
     ]
    }
   ],
   "source": [
    "Car1=Car(\"mercedes\",\"C Class\",2023,\"300kmh\")\n",
    "print(Car1)"
   ]
  },
  {
   "cell_type": "code",
   "execution_count": null,
   "id": "fe24e6ab-ad1c-48de-b7fd-4c2d922de7ba",
   "metadata": {},
   "outputs": [],
   "source": [
    "Car1.accelerate()"
   ]
  },
  {
   "cell_type": "code",
   "execution_count": null,
   "id": "75ffc9d3-5055-4ce2-8da4-4847fc9695bc",
   "metadata": {},
   "outputs": [],
   "source": []
  },
  {
   "cell_type": "code",
   "execution_count": 33,
   "id": "e6b70811-1709-4494-9e3c-1655df5e7708",
   "metadata": {},
   "outputs": [],
   "source": [
    "class BankAccount:\n",
    "    \n",
    "    def __init__(self,holder,balance, account_number):\n",
    "        self.holder = holder\n",
    "        self.balance = balance\n",
    "        self.account_number=account_number\n",
    "\n",
    "    def add_geld(self):\n",
    "        geld = int(input('bitte geld eingeben'))\n",
    "        self.balance = self.balance+geld\n",
    "        print(f'the new balance is {self.balance}')\n",
    "        \n",
    "    def nehm_geld(self):\n",
    "        geld = int(input('bitte geld auszahlen'))\n",
    "        if geld > self.balance:\n",
    "            print('das geht leider nicht')\n",
    "        else:\n",
    "            self.balance = self.balance - ge\n",
    "            print(f'the new balance is {self.balance}')\n",
    "            \n",
    "    def geld_transfer(self):\n",
    "        \n",
    "        geld_transfer = input('wohin soll das geld überwissen werden. bitte neu Bankverbindung eingeben')\n",
    "        geld_sum = int(input('wie viel geld wollen sie überweisen'))\n",
    "        if geld_sum > self.balance:\n",
    "            print('das geht leider nicht')\n",
    "        else:\n",
    "            self.balance = self.balance - geld_sum\n",
    "            print(f'das geld wurde erfolgerich überwissen. the new balance is {self.balance}')"
   ]
  },
  {
   "cell_type": "code",
   "execution_count": 35,
   "id": "e1fac0c9-2a9a-434d-99ab-113561fc3bd6",
   "metadata": {},
   "outputs": [
    {
     "name": "stdin",
     "output_type": "stream",
     "text": [
      "bitte geld eingeben 3000\n"
     ]
    },
    {
     "name": "stdout",
     "output_type": "stream",
     "text": [
      "the new balance is 5000\n"
     ]
    }
   ],
   "source": [
    "BA=BankAccount('kenan',2000,'123564')\n",
    "BA.add_geld()"
   ]
  },
  {
   "cell_type": "code",
   "execution_count": 37,
   "id": "065d0f81-6ee0-4093-84d8-79290e259b50",
   "metadata": {},
   "outputs": [
    {
     "name": "stdin",
     "output_type": "stream",
     "text": [
      "bitte geld auszahlen 2500\n"
     ]
    },
    {
     "name": "stdout",
     "output_type": "stream",
     "text": [
      "the new balance is 2500\n"
     ]
    }
   ],
   "source": [
    "BA.nehm_geld()"
   ]
  },
  {
   "cell_type": "code",
   "execution_count": 39,
   "id": "3adcb9ea-8f44-48bc-b5fb-18ae47945ac1",
   "metadata": {},
   "outputs": [
    {
     "name": "stdin",
     "output_type": "stream",
     "text": [
      "wohin soll das geld überwissen werden. bitte neu Bankverbindung eingeben Ammar Al Hmrawi\n",
      "wie viel geld wollen sie überweisen 1000\n"
     ]
    },
    {
     "name": "stdout",
     "output_type": "stream",
     "text": [
      "das geld wurde erfolgerich überwissen. the new balance is 1500\n"
     ]
    }
   ],
   "source": [
    "BA.geld_transfer()"
   ]
  },
  {
   "cell_type": "code",
   "execution_count": null,
   "id": "072114f1-45d0-430b-8abb-0285831a4c98",
   "metadata": {},
   "outputs": [],
   "source": []
  },
  {
   "cell_type": "code",
   "execution_count": null,
   "id": "cecc5847-17b8-4b61-8084-1987105091f9",
   "metadata": {},
   "outputs": [],
   "source": []
  }
 ],
 "metadata": {
  "kernelspec": {
   "display_name": "Python [conda env:base] *",
   "language": "python",
   "name": "conda-base-py"
  },
  "language_info": {
   "codemirror_mode": {
    "name": "ipython",
    "version": 3
   },
   "file_extension": ".py",
   "mimetype": "text/x-python",
   "name": "python",
   "nbconvert_exporter": "python",
   "pygments_lexer": "ipython3",
   "version": "3.12.7"
  }
 },
 "nbformat": 4,
 "nbformat_minor": 5
}
