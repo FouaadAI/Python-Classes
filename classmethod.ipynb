{
 "cells": [
  {
   "cell_type": "code",
   "execution_count": 15,
   "id": "021b748c-0edc-4112-a919-7f7088a00399",
   "metadata": {},
   "outputs": [
    {
     "name": "stdout",
     "output_type": "stream",
     "text": [
      "Total cars: 2\n",
      "Is 2025 a valid year? True\n",
      "Is 1800 a valid year? False\n"
     ]
    }
   ],
   "source": [
    "class Car:\n",
    "   total_cars = 0  # Class-level variable to count cars\n",
    "   def __init__(self, brand, model, year):\n",
    "       self.brand = brand\n",
    "       self.model = model\n",
    "       self.year = year\n",
    "       Car.total_cars += 1  # Increment the car count\n",
    "   @classmethod\n",
    "   def get_total_cars(cls):\n",
    "       return cls.total_cars  # Return the total number of cars\n",
    "   @staticmethod\n",
    "   def is_valid_year(year):\n",
    "       return year > 1886  # Check if the year is valid\n",
    "# Create objects\n",
    "car1 = Car(\"Toyota\", \"Corolla\", 2020)\n",
    "car2 = Car(\"Tesla\", \"Model S\", 2023)\n",
    "# Call class method\n",
    "print(\"Total cars:\", Car.get_total_cars())  # Output: 2\n",
    "# Call static method\n",
    "print(\"Is 2025 a valid year?\", Car.is_valid_year(2025))  # Output: True\n",
    "print(\"Is 1800 a valid year?\", Car.is_valid_year(1800))  # Output: False"
   ]
  },
  {
   "cell_type": "code",
   "execution_count": null,
   "id": "79a741ce-9607-453f-82a1-1ce89eeff5d3",
   "metadata": {},
   "outputs": [],
   "source": []
  }
 ],
 "metadata": {
  "kernelspec": {
   "display_name": "Python [conda env:base] *",
   "language": "python",
   "name": "conda-base-py"
  },
  "language_info": {
   "codemirror_mode": {
    "name": "ipython",
    "version": 3
   },
   "file_extension": ".py",
   "mimetype": "text/x-python",
   "name": "python",
   "nbconvert_exporter": "python",
   "pygments_lexer": "ipython3",
   "version": "3.12.7"
  }
 },
 "nbformat": 4,
 "nbformat_minor": 5
}
