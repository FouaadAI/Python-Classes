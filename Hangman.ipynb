{
 "cells": [
  {
   "cell_type": "code",
   "execution_count": 1,
   "id": "c1c2ff5c-9ce0-4fb6-a1e6-1f894636be57",
   "metadata": {},
   "outputs": [
    {
     "name": "stdout",
     "output_type": "stream",
     "text": [
      "مرحبًا! مرحبًا بك في لعبة 'تخمين الكلمة'!\n",
      "لديك 6 محاولات لتخمين الكلمة.\n",
      "الكلمة تحتوي على 4 أحرف: ____\n"
     ]
    },
    {
     "name": "stdin",
     "output_type": "stream",
     "text": [
      "خمن حرفًا:  ش\n"
     ]
    },
    {
     "name": "stdout",
     "output_type": "stream",
     "text": [
      "للأسف، الحرف 'ش' غير موجود في الكلمة. لديك 5 محاولات باقية.\n",
      "الحروف التي خمنتها: ش\n"
     ]
    },
    {
     "name": "stdin",
     "output_type": "stream",
     "text": [
      "خمن حرفًا:  ذ\n"
     ]
    },
    {
     "name": "stdout",
     "output_type": "stream",
     "text": [
      "حسنًا! الحرف 'ذ' موجود في الكلمة.\n",
      "ذ___\n",
      "الحروف التي خمنتها: ش, ذ\n"
     ]
    },
    {
     "name": "stdin",
     "output_type": "stream",
     "text": [
      "خمن حرفًا:  ذكاء\n"
     ]
    },
    {
     "name": "stdout",
     "output_type": "stream",
     "text": [
      "من فضلك أدخل حرفًا واحدًا صالحًا.\n"
     ]
    },
    {
     "name": "stdin",
     "output_type": "stream",
     "text": [
      "خمن حرفًا:  ك\n"
     ]
    },
    {
     "name": "stdout",
     "output_type": "stream",
     "text": [
      "حسنًا! الحرف 'ك' موجود في الكلمة.\n",
      "ذك__\n",
      "الحروف التي خمنتها: ش, ذ, ك\n"
     ]
    },
    {
     "name": "stdin",
     "output_type": "stream",
     "text": [
      "خمن حرفًا:  ا\n"
     ]
    },
    {
     "name": "stdout",
     "output_type": "stream",
     "text": [
      "حسنًا! الحرف 'ا' موجود في الكلمة.\n",
      "ذكا_\n",
      "الحروف التي خمنتها: ش, ذ, ك, ا\n"
     ]
    },
    {
     "name": "stdin",
     "output_type": "stream",
     "text": [
      "خمن حرفًا:  ء\n"
     ]
    },
    {
     "name": "stdout",
     "output_type": "stream",
     "text": [
      "حسنًا! الحرف 'ء' موجود في الكلمة.\n",
      "ذكاء\n",
      "الحروف التي خمنتها: ش, ذ, ك, ا, ء\n",
      "مبروك! لقد خمنت الكلمة الصحيحة: ذكاء\n"
     ]
    },
    {
     "name": "stdin",
     "output_type": "stream",
     "text": [
      "هل تريد اللعب مرة أخرى؟ (نعم/لا):  لا\n"
     ]
    },
    {
     "name": "stdout",
     "output_type": "stream",
     "text": [
      "شكرًا لك على اللعب! أراك لاحقًا.\n"
     ]
    }
   ],
   "source": [
    "import random\n",
    "\n",
    "def hangman():\n",
    "    words = ['برمجة', 'كمبيوتر', 'ذكاء', 'اصطناعي', 'خوارزمية', 'تطوير', 'برمجيات', 'شبكة', 'بيانات', 'تعلم']\n",
    "    word = random.choice(words)\n",
    "    guessed_letters = []\n",
    "    attempts = 6\n",
    "    word_completion = '_' * len(word)\n",
    "    \n",
    "    print(\"مرحبًا! مرحبًا بك في لعبة 'تخمين الكلمة'!\")\n",
    "    print(\"لديك 6 محاولات لتخمين الكلمة.\")\n",
    "    print(f\"الكلمة تحتوي على {len(word)} أحرف: {word_completion}\")\n",
    "    \n",
    "    while attempts > 0 and '_' in word_completion:\n",
    "        guess = input(\"خمن حرفًا: \").strip().lower()\n",
    "        \n",
    "        if len(guess) != 1 or not guess.isalpha():\n",
    "            print(\"من فضلك أدخل حرفًا واحدًا صالحًا.\")\n",
    "            continue\n",
    "        \n",
    "        if guess in guessed_letters:\n",
    "            print(\"لقد خمنت هذا الحرف مسبقًا!\")\n",
    "            continue\n",
    "        \n",
    "        guessed_letters.append(guess)\n",
    "        \n",
    "        if guess in word:\n",
    "            print(f\"حسنًا! الحرف '{guess}' موجود في الكلمة.\")\n",
    "            word_as_list = list(word_completion)\n",
    "            indices = [i for i, letter in enumerate(word) if letter == guess]\n",
    "            for index in indices:\n",
    "                word_as_list[index] = guess\n",
    "            word_completion = ''.join(word_as_list)\n",
    "            print(word_completion)\n",
    "        else:\n",
    "            attempts -= 1\n",
    "            print(f\"للأسف، الحرف '{guess}' غير موجود في الكلمة. لديك {attempts} محاولات باقية.\")\n",
    "        \n",
    "        print(f\"الحروف التي خمنتها: {', '.join(guessed_letters)}\")\n",
    "    \n",
    "    if '_' not in word_completion:\n",
    "        print(f\"مبروك! لقد خمنت الكلمة الصحيحة: {word}\")\n",
    "    else:\n",
    "        print(f\"للأسف، لقد نفذت جميع محاولاتك. الكلمة الصحيحة كانت: {word}\")\n",
    "    \n",
    "    play_again = input(\"هل تريد اللعب مرة أخرى؟ (نعم/لا): \").strip().lower()\n",
    "    if play_again == 'نعم':\n",
    "        hangman()\n",
    "    else:\n",
    "        print(\"شكرًا لك على اللعب! أراك لاحقًا.\")\n",
    "\n",
    "# تشغيل اللعبة\n",
    "hangman()"
   ]
  },
  {
   "cell_type": "code",
   "execution_count": null,
   "id": "4ade9bf8-b461-46c6-a7b7-a888af76c261",
   "metadata": {},
   "outputs": [],
   "source": []
  }
 ],
 "metadata": {
  "kernelspec": {
   "display_name": "Python [conda env:base] *",
   "language": "python",
   "name": "conda-base-py"
  },
  "language_info": {
   "codemirror_mode": {
    "name": "ipython",
    "version": 3
   },
   "file_extension": ".py",
   "mimetype": "text/x-python",
   "name": "python",
   "nbconvert_exporter": "python",
   "pygments_lexer": "ipython3",
   "version": "3.12.7"
  }
 },
 "nbformat": 4,
 "nbformat_minor": 5
}
