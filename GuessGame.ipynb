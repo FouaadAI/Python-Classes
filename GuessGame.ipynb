{
 "cells": [
  {
   "cell_type": "code",
   "execution_count": 1,
   "id": "5e4439cc-7eec-4eda-b715-17001ce1d17e",
   "metadata": {},
   "outputs": [],
   "source": [
    "import numpy as np"
   ]
  },
  {
   "cell_type": "code",
   "execution_count": 3,
   "id": "96d2cd70-baca-4cd4-ae85-f0af264d74ed",
   "metadata": {},
   "outputs": [],
   "source": [
    "matrix1=np.array([[1,2,3],\n",
    "                  [4,5,6],\n",
    "                  [7,8,9]])\n",
    "matrix2=np.array([[9,7,5],\n",
    "                  [8,6,4],\n",
    "                  [2,4,6]])"
   ]
  },
  {
   "cell_type": "code",
   "execution_count": 5,
   "id": "f69778ff-4133-489c-b6dd-d68d1c2ff5d3",
   "metadata": {},
   "outputs": [
    {
     "name": "stdout",
     "output_type": "stream",
     "text": [
      "matrix 1:\n",
      "[[1 2 3]\n",
      " [4 5 6]\n",
      " [7 8 9]]\n"
     ]
    }
   ],
   "source": [
    "print(\"matrix 1:\")\n",
    "print(matrix1)"
   ]
  },
  {
   "cell_type": "code",
   "execution_count": 7,
   "id": "96a4ecd4-3275-46a1-adbb-6512930a0ed4",
   "metadata": {},
   "outputs": [
    {
     "name": "stdout",
     "output_type": "stream",
     "text": [
      "matrix 2:\n",
      "[[9 7 5]\n",
      " [8 6 4]\n",
      " [2 4 6]]\n"
     ]
    }
   ],
   "source": [
    "print(\"matrix 2:\")\n",
    "print(matrix2)"
   ]
  },
  {
   "cell_type": "code",
   "execution_count": 9,
   "id": "566a1df4-0f80-4fea-ba68-24e1b86cbad5",
   "metadata": {},
   "outputs": [
    {
     "name": "stdout",
     "output_type": "stream",
     "text": [
      "[[10  9  8]\n",
      " [12 11 10]\n",
      " [ 9 12 15]]\n"
     ]
    }
   ],
   "source": [
    "add=matrix1+matrix2\n",
    "print(add)"
   ]
  },
  {
   "cell_type": "code",
   "execution_count": 11,
   "id": "1d6bdb2d-4528-41dc-bb71-54eaedf51f28",
   "metadata": {},
   "outputs": [
    {
     "name": "stdout",
     "output_type": "stream",
     "text": [
      "[[-8 -5 -2]\n",
      " [-4 -1  2]\n",
      " [ 5  4  3]]\n"
     ]
    }
   ],
   "source": [
    "sub=matrix1-matrix2\n",
    "print(sub)"
   ]
  },
  {
   "cell_type": "code",
   "execution_count": 13,
   "id": "354b4491-ecba-4f05-82dc-087279fa2c76",
   "metadata": {},
   "outputs": [
    {
     "name": "stdout",
     "output_type": "stream",
     "text": [
      "[[ 9 14 15]\n",
      " [32 30 24]\n",
      " [14 32 54]]\n"
     ]
    }
   ],
   "source": [
    "mult=matrix1*matrix2\n",
    "print(mult)"
   ]
  },
  {
   "cell_type": "code",
   "execution_count": 15,
   "id": "776bdd4c-35d8-47b2-a1a3-8282c3e395e0",
   "metadata": {},
   "outputs": [
    {
     "name": "stdout",
     "output_type": "stream",
     "text": [
      "[[ 31  31  31]\n",
      " [ 88  82  76]\n",
      " [145 133 121]]\n"
     ]
    }
   ],
   "source": [
    "dot=np.dot(matrix1,matrix2)\n",
    "print(dot)"
   ]
  },
  {
   "cell_type": "code",
   "execution_count": 17,
   "id": "8128332d-7407-4a06-b064-4a8189204741",
   "metadata": {},
   "outputs": [
    {
     "name": "stdout",
     "output_type": "stream",
     "text": [
      "[[1 4 7]\n",
      " [2 5 8]\n",
      " [3 6 9]]\n"
     ]
    }
   ],
   "source": [
    "trans=np.transpose(matrix1)\n",
    "print(trans)"
   ]
  },
  {
   "cell_type": "code",
   "execution_count": 19,
   "id": "f0ecf74e-4b65-4bff-9e18-a1ad8aad6ce1",
   "metadata": {},
   "outputs": [
    {
     "name": "stdout",
     "output_type": "stream",
     "text": [
      "6.66133814775094e-16\n"
     ]
    }
   ],
   "source": [
    "det=np.linalg.det(matrix1)\n",
    "print(det)"
   ]
  },
  {
   "cell_type": "code",
   "execution_count": 21,
   "id": "743b6658-e47d-44f0-89ff-1f5b757f24a6",
   "metadata": {},
   "outputs": [
    {
     "name": "stdout",
     "output_type": "stream",
     "text": [
      "[[1 3 8]\n",
      " [9 7 8]\n",
      " [9 9 9]]\n",
      "[[9 8 3]\n",
      " [9 2 1]\n",
      " [6 8 6]]\n"
     ]
    }
   ],
   "source": [
    "matrix_a=np.random.randint(1,10,(3,3))\n",
    "matrix_b=np.random.randint(1,10,(3,3))\n",
    "print(matrix_a)\n",
    "print(matrix_b)"
   ]
  },
  {
   "cell_type": "code",
   "execution_count": 23,
   "id": "f3bebf94-ccda-4e5f-9734-e4e9714ae4f6",
   "metadata": {},
   "outputs": [
    {
     "name": "stdout",
     "output_type": "stream",
     "text": [
      "[[1 3 8]\n",
      " [9 7 8]\n",
      " [9 9 9]]\n"
     ]
    }
   ],
   "source": [
    "det1=np.linalg.det(matrix_a)\n",
    "print(matrix_a)"
   ]
  },
  {
   "cell_type": "code",
   "execution_count": 25,
   "id": "20e1a188-f71e-43b6-b2ff-d2fb72292792",
   "metadata": {},
   "outputs": [
    {
     "name": "stdout",
     "output_type": "stream",
     "text": [
      "[[-0.08333333  0.41666667 -0.2962963 ]\n",
      " [-0.08333333 -0.58333333  0.59259259]\n",
      " [ 0.16666667  0.16666667 -0.18518519]]\n"
     ]
    }
   ],
   "source": [
    "if det1 !=0:\n",
    "    inverse_a=np.linalg.inv(matrix_a)\n",
    "    print(inverse_a)\n",
    "else:\n",
    "    print(\"not have an inverse\")"
   ]
  },
  {
   "cell_type": "code",
   "execution_count": 27,
   "id": "c387163c-e02e-4c1c-b9c4-189fe194c839",
   "metadata": {},
   "outputs": [
    {
     "name": "stdout",
     "output_type": "stream",
     "text": [
      "[[0.84147098 0.14112001 0.98935825]\n",
      " [0.41211849 0.6569866  0.98935825]\n",
      " [0.41211849 0.41211849 0.41211849]]\n"
     ]
    }
   ],
   "source": [
    "sine=np.sin(matrix_a)\n",
    "print(sine)"
   ]
  },
  {
   "cell_type": "code",
   "execution_count": 29,
   "id": "0373c12f-daec-423c-ad3f-86dce3248867",
   "metadata": {},
   "outputs": [
    {
     "name": "stdout",
     "output_type": "stream",
     "text": [
      "[[0.         1.09861229 2.07944154]\n",
      " [2.19722458 1.94591015 2.07944154]\n",
      " [2.19722458 2.19722458 2.19722458]]\n"
     ]
    }
   ],
   "source": [
    "log=np.log(matrix_a,where=matrix_a >0)\n",
    "print(log)"
   ]
  },
  {
   "cell_type": "code",
   "execution_count": 31,
   "id": "91aaacc4-3d1c-4091-b869-1228ec27eaeb",
   "metadata": {},
   "outputs": [
    {
     "name": "stdout",
     "output_type": "stream",
     "text": [
      "[1 7 9]\n",
      "[1 3 8]\n",
      "[8 9 7 8 9 9 9]\n"
     ]
    }
   ],
   "source": [
    "diag=np.diagonal(matrix_a)\n",
    "row_1=matrix_a[0,:]\n",
    "elements_greater_than_5=matrix_a[matrix_a>5]\n",
    "print(diag)\n",
    "print(row_1)\n",
    "print(elements_greater_than_5)"
   ]
  },
  {
   "cell_type": "code",
   "execution_count": null,
   "id": "dd5347db-2cc2-431c-b323-893a67ad1429",
   "metadata": {},
   "outputs": [],
   "source": []
  },
  {
   "cell_type": "code",
   "execution_count": null,
   "id": "4c4794c6-8268-4426-8d16-b31a1ffb8848",
   "metadata": {},
   "outputs": [],
   "source": []
  },
  {
   "cell_type": "code",
   "execution_count": null,
   "id": "48947479-79c8-4b6e-b4fa-532eca7fb803",
   "metadata": {},
   "outputs": [
    {
     "name": "stdout",
     "output_type": "stream",
     "text": [
      "welcome to the Guess Game\n",
      "I will taking a number between 1 and 100. can you guess it?!\n"
     ]
    },
    {
     "name": "stdin",
     "output_type": "stream",
     "text": [
      "Enter your guess:  \n"
     ]
    },
    {
     "name": "stdout",
     "output_type": "stream",
     "text": [
      "please inter a number\n"
     ]
    }
   ],
   "source": [
    "import numpy as np\n",
    "class GuessGame:\n",
    "    def __init__(self):\n",
    "        self.number_to_guess=np.random.randint(1, 101)\n",
    "        self.guess_count=0\n",
    "    def play(self):\n",
    "        print(\"welcome to the Guess Game\")\n",
    "        print(\"I will taking a number between 1 and 100. can you guess it?!\")\n",
    "        while True:\n",
    "            try:\n",
    "                player_guess=int(input(\"Enter your guess: \"))\n",
    "                self.guess_count+=1\n",
    "                if player_guess < self.number_to_guess:\n",
    "                    print(\"too low! Try again :) \")\n",
    "                elif player_guess > self.number_to_guess:\n",
    "                    print(\"too high! Try again :) \")\n",
    "                else:\n",
    "                    print(\"Bravo!! you got it :D \")\n",
    "                    break\n",
    "            except ValueError:\n",
    "                print(\"please inter a number\")\n",
    "game=GuessGame()\n",
    "game.play()                "
   ]
  },
  {
   "cell_type": "code",
   "execution_count": null,
   "id": "4f4a9c90-d55e-4faa-8241-cda2d49de817",
   "metadata": {},
   "outputs": [],
   "source": []
  },
  {
   "cell_type": "code",
   "execution_count": null,
   "id": "b26c84ee-64b8-4744-b84b-76a3a222d4c1",
   "metadata": {},
   "outputs": [],
   "source": []
  },
  {
   "cell_type": "code",
   "execution_count": null,
   "id": "0ed7663c-6fdd-4146-81a4-8f3278d19295",
   "metadata": {},
   "outputs": [],
   "source": [
    "import numpy as np\n",
    " \n",
    "class GuessTheNumber:\n",
    "    def __init__(self):\n",
    "        self.target_number = 0    \n",
    "        self.attempts = 0       \n",
    " \n",
    "    def generate_number(self):\n",
    "        self.target_number = np.random.randint(1, 101)\n",
    "        print(\"!\")\n",
    " \n",
    "    def check_guess(self, guess):\n",
    "        self.attempts += 1   \n",
    "        if guess < self.target_number:\n",
    "            print(\"اTRY AGIN THE NUM IS LOW \")\n",
    "        elif guess > self.target_number:\n",
    "            print(\"اTRY AGIN THE NUM IS HIGH !\")\n",
    "        else:\n",
    "            print(f\"  BRAVOO ({self.target_number}) في {self.attempts} محاولة.\")\n",
    " \n",
    "    def play(self):\n",
    "        self.generate_number()\n",
    "        while True:\n",
    "            try:\n",
    "                guess = int(input(\" PLESE ENTER THEN GUSSE NUM ( 1 , 100): \"))\n",
    "                if guess < 1 or guess > 100:\n",
    "                    print(\"   PLESE ENTER THE NUM FROM  1 , 100.\")\n",
    "                    continue\n",
    "                # اVEIVY FROM GUSSE\n",
    "                self.check_guess(guess)\n",
    "                if guess == self.target_number:\n",
    "                    break  # END THE PLAY \n",
    "            except ValueError:\n",
    "                print(\"   PLEASE ENTER THE CORECT NUM.\")\n",
    " \n",
    " \n",
    "if __name__ == \"__main__\":\n",
    "    game = GuessTheNumber()  \n",
    "    game.play()"
   ]
  },
  {
   "cell_type": "code",
   "execution_count": null,
   "id": "8fbcad06-f3e5-491a-b575-de25505cd62e",
   "metadata": {},
   "outputs": [],
   "source": []
  },
  {
   "cell_type": "code",
   "execution_count": null,
   "id": "4d729299-2889-438b-aef7-a5383d072800",
   "metadata": {},
   "outputs": [],
   "source": []
  },
  {
   "cell_type": "code",
   "execution_count": 5,
   "id": "e28f140f-8f1c-455b-937b-af4a8c9218ba",
   "metadata": {},
   "outputs": [
    {
     "name": "stdout",
     "output_type": "stream",
     "text": [
      "Average grade for each student: [84.33333333 85.33333333 87.33333333 79.         91.66666667]\n",
      "Average grade for each subject: [86.  86.  84.6]\n",
      "Highest grade in each subject: [95 91 92]\n",
      "Lowest grade in each subject: [72 76 78]\n",
      "Standard deviation of grades for each subject: [7.72010363 5.40370243 5.27636238]\n"
     ]
    }
   ],
   "source": [
    "import numpy as np\n",
    "grades = np.array([\n",
    "    [85, 90, 78],  #1:Math, Science, English\n",
    "    [88, 76, 92],  #2:Math, Science, English\n",
    "    [90, 88, 84],  #3:Math, Science, English\n",
    "    [72, 85, 80],  #4:Math, Science, English\n",
    "    [95, 91, 89]   #5:Math, Science, English\n",
    "])\n",
    "average_per_student = np.mean(grades, axis=1)\n",
    "\n",
    "average_per_subject = np.mean(grades, axis=0)\n",
    "\n",
    "highest_per_subject = np.max(grades, axis=0)\n",
    "lowest_per_subject = np.min(grades, axis=0)\n",
    "\n",
    "std_dev_per_subject = np.std(grades, axis=0)\n",
    "\n",
    "print(\"Average grade for each student:\", average_per_student)\n",
    "print(\"Average grade for each subject:\", average_per_subject)\n",
    "print(\"Highest grade in each subject:\", highest_per_subject)\n",
    "print(\"Lowest grade in each subject:\", lowest_per_subject)\n",
    "print(\"Standard deviation of grades for each subject:\", std_dev_per_subject)"
   ]
  },
  {
   "cell_type": "code",
   "execution_count": null,
   "id": "652dbaf3-6202-42f7-a1d7-74c30d280748",
   "metadata": {},
   "outputs": [],
   "source": []
  },
  {
   "cell_type": "code",
   "execution_count": 31,
   "id": "39045bd5-c74e-4eec-be74-e9d3711b4700",
   "metadata": {},
   "outputs": [
    {
     "name": "stdout",
     "output_type": "stream",
     "text": [
      "THE NUM IS DUB [2 4]\n",
      "[0 1 2 1 3 1]\n",
      "[1 2 2 3 4 4 4 5]\n"
     ]
    }
   ],
   "source": [
    "import numpy as np\n",
    "my_array = np.array([1, 2, 2, 3, 4, 4, 4, 5])\n",
    "UN, counts = np.unique(my_array, return_counts=True)\n",
    "duplicates = UN[counts > 1]\n",
    "counts1 = np.bincount(my_array)\n",
    "alaa=my_array.flatten()\n",
    "print(\"THE NUM IS DUB\", duplicates)\n",
    "print(counts1)\n",
    "print(alaa)"
   ]
  },
  {
   "cell_type": "code",
   "execution_count": null,
   "id": "ccff0ebc-cb0c-4e1e-97de-4224ac6793c5",
   "metadata": {},
   "outputs": [],
   "source": []
  },
  {
   "cell_type": "code",
   "execution_count": 19,
   "id": "a8eb04ee-efcc-4b56-956d-3f6e451de8b5",
   "metadata": {},
   "outputs": [
    {
     "name": "stdout",
     "output_type": "stream",
     "text": [
      " THE NUM IS  [2 4]\n"
     ]
    }
   ],
   "source": [
    "import numpy as np\n",
    " \n",
    "my_array = np.array([1, 2, 2, 3, 4, 4, 4, 5])\n",
    " \n",
    "counts = np.bincount(my_array)\n",
    " \n",
    "duplicates = np.where(counts > 1)[0]\n",
    " \n",
    "print(\" THE NUM IS \", duplicates)"
   ]
  },
  {
   "cell_type": "code",
   "execution_count": null,
   "id": "b128d0cf-242c-471b-a5ea-2c3c370f2486",
   "metadata": {},
   "outputs": [],
   "source": []
  }
 ],
 "metadata": {
  "kernelspec": {
   "display_name": "Python [conda env:base] *",
   "language": "python",
   "name": "conda-base-py"
  },
  "language_info": {
   "codemirror_mode": {
    "name": "ipython",
    "version": 3
   },
   "file_extension": ".py",
   "mimetype": "text/x-python",
   "name": "python",
   "nbconvert_exporter": "python",
   "pygments_lexer": "ipython3",
   "version": "3.12.7"
  }
 },
 "nbformat": 4,
 "nbformat_minor": 5
}
