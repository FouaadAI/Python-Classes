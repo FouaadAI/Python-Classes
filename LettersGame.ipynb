{
 "cells": [
  {
   "cell_type": "code",
   "execution_count": 3,
   "id": "1100fd21-5a7a-49a4-8f74-5c64b2475ac1",
   "metadata": {},
   "outputs": [
    {
     "name": "stdout",
     "output_type": "stream",
     "text": [
      "مرحبًا! لنلعب لعبة حرف، اسم، نبات، حيوان، جماد، بلاد.\n",
      "لديك 90 ثانية لملء جميع الإجابات.\n",
      "الحرف المختار هو: ذ\n"
     ]
    },
    {
     "name": "stdin",
     "output_type": "stream",
     "text": [
      "ادخل اسم شخص يبدأ بهذا الحرف:  ذبير\n"
     ]
    },
    {
     "name": "stdout",
     "output_type": "stream",
     "text": [
      "\n",
      "انتهى الوقت! لم تكمل جميع الإجابات في الوقت المحدد.\n",
      "إجاباتك حتى الآن:\n",
      "اسم: ذبير\n",
      "نبات: لم يتم الإدخال\n",
      "حيوان: لم يتم الإدخال\n",
      "جماد: لم يتم الإدخال\n",
      "بلاد: لم يتم الإدخال\n"
     ]
    },
    {
     "name": "stdin",
     "output_type": "stream",
     "text": [
      "ادخل اسم نبات يبدأ بهذا الحرف:  \n",
      "ادخل اسم حيوان يبدأ بهذا الحرف:  ذئب\n",
      "ادخل اسم جماد يبدأ بهذا الحرف:  \n",
      "ادخل اسم بلاد يبدأ بهذا الحرف:  \n"
     ]
    },
    {
     "name": "stdout",
     "output_type": "stream",
     "text": [
      "\n",
      "إجاباتك:\n",
      "اسم: ذبير\n",
      "نبات: \n",
      "حيوان: ذئب\n",
      "جماد: \n",
      "بلاد: \n",
      "\n",
      "شكرًا للعب!\n"
     ]
    }
   ],
   "source": [
    "import random\n",
    "import threading\n",
    "\n",
    "def choose_random_letter():\n",
    "    # قائمة بالحروف العربية\n",
    "    arabic_letters = 'أبتثجحخدذرزسشصضطظعغفقكلمنهوي'\n",
    "    return random.choice(arabic_letters)\n",
    "\n",
    "def play_game():\n",
    "    print(\"مرحبًا! لنلعب لعبة حرف، اسم، نبات، حيوان، جماد، بلاد.\")\n",
    "    print(\"لديك 90 ثانية لملء جميع الإجابات.\")\n",
    "    \n",
    "    # اختيار حرف عشوائي\n",
    "    letter = choose_random_letter()\n",
    "    print(f\"الحرف المختار هو: {letter}\")\n",
    "    \n",
    "    # متغيرات لتخزين إجابات المستخدم\n",
    "    answers = {\n",
    "        \"اسم\": None,\n",
    "        \"نبات\": None,\n",
    "        \"حيوان\": None,\n",
    "        \"جماد\": None,\n",
    "        \"بلاد\": None\n",
    "    }\n",
    "    \n",
    "    # دالة لإنهاء اللعبة عند انتهاء الوقت\n",
    "    def timeout():\n",
    "        print(\"\\nانتهى الوقت! لم تكمل جميع الإجابات في الوقت المحدد.\")\n",
    "        print(\"إجاباتك حتى الآن:\")\n",
    "        for category, answer in answers.items():\n",
    "            print(f\"{category}: {answer if answer else 'لم يتم الإدخال'}\")\n",
    "        exit()\n",
    "    \n",
    "    # بدء المؤقت (90 ثانية)\n",
    "    timer = threading.Timer(90.0, timeout)\n",
    "    timer.start()\n",
    "    \n",
    "    # طلب الإدخالات من المستخدم\n",
    "    try:\n",
    "        answers[\"اسم\"] = input(\"ادخل اسم شخص يبدأ بهذا الحرف: \")\n",
    "        answers[\"نبات\"] = input(\"ادخل اسم نبات يبدأ بهذا الحرف: \")\n",
    "        answers[\"حيوان\"] = input(\"ادخل اسم حيوان يبدأ بهذا الحرف: \")\n",
    "        answers[\"جماد\"] = input(\"ادخل اسم جماد يبدأ بهذا الحرف: \")\n",
    "        answers[\"بلاد\"] = input(\"ادخل اسم بلاد يبدأ بهذا الحرف: \")\n",
    "        \n",
    "        # إيقاف المؤقت إذا أكمل المستخدم الإدخالات قبل انتهاء الوقت\n",
    "        timer.cancel()\n",
    "        \n",
    "        # عرض النتائج\n",
    "        print(\"\\nإجاباتك:\")\n",
    "        for category, answer in answers.items():\n",
    "            print(f\"{category}: {answer}\")\n",
    "        \n",
    "        print(\"\\nشكرًا للعب!\")\n",
    "    except:\n",
    "        # في حالة حدوث خطأ (مثل انتهاء الوقت)\n",
    "        pass\n",
    "\n",
    "# تشغيل اللعبة\n",
    "play_game()"
   ]
  },
  {
   "cell_type": "code",
   "execution_count": null,
   "id": "810ee35a-14b3-47f0-b98a-39a5fda5d217",
   "metadata": {},
   "outputs": [],
   "source": []
  }
 ],
 "metadata": {
  "kernelspec": {
   "display_name": "Python [conda env:base] *",
   "language": "python",
   "name": "conda-base-py"
  },
  "language_info": {
   "codemirror_mode": {
    "name": "ipython",
    "version": 3
   },
   "file_extension": ".py",
   "mimetype": "text/x-python",
   "name": "python",
   "nbconvert_exporter": "python",
   "pygments_lexer": "ipython3",
   "version": "3.12.7"
  }
 },
 "nbformat": 4,
 "nbformat_minor": 5
}
